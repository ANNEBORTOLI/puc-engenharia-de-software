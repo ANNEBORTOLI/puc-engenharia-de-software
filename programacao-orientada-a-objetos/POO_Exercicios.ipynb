{
  "nbformat": 4,
  "nbformat_minor": 0,
  "metadata": {
    "colab": {
      "provenance": [],
      "toc_visible": true,
      "include_colab_link": true
    },
    "kernelspec": {
      "name": "python3",
      "display_name": "Python 3"
    },
    "language_info": {
      "name": "python"
    }
  },
  "cells": [
    {
      "cell_type": "markdown",
      "metadata": {
        "id": "view-in-github",
        "colab_type": "text"
      },
      "source": [
        "<a href=\"https://colab.research.google.com/github/dipucriodigital/engenharia-de-software/blob/main/programacao-orientada-a-objetos/POO_Exercicios.ipynb\" target=\"_parent\"><img src=\"https://colab.research.google.com/assets/colab-badge.svg\" alt=\"Open In Colab\"/></a>"
      ]
    },
    {
      "cell_type": "markdown",
      "source": [
        "# Programação Orientada a Objetos\n",
        "## Prof. Tatiana Escovedo\n",
        "## Prof. Assistente Antonio Pedro\n",
        "\n",
        "---\n",
        "\n",
        "## Exercícios Básicos de Fixação\n",
        "\n",
        "***(Lista permanentemente em construção. Se quiser sugerir um exercício entre em contato com os professores.)***"
      ],
      "metadata": {
        "id": "qWvghOA0ZHgx"
      }
    },
    {
      "cell_type": "markdown",
      "source": [
        "## Básico de Python"
      ],
      "metadata": {
        "id": "mECl2y1Sfta8"
      }
    },
    {
      "cell_type": "markdown",
      "source": [
        "1) Crie e inicialize duas variáveis inteiras e imprima a sua soma."
      ],
      "metadata": {
        "id": "rKPIhXWcfvTB"
      }
    },
    {
      "cell_type": "code",
      "source": [
        "a = 7\n",
        "b = 9\n",
        "\n",
        "print(a+b)"
      ],
      "metadata": {
        "colab": {
          "base_uri": "https://localhost:8080/"
        },
        "id": "rrZNMfLtf54L",
        "outputId": "a246ed23-a35f-45d2-ce92-da681e268dfc"
      },
      "execution_count": null,
      "outputs": [
        {
          "output_type": "stream",
          "name": "stdout",
          "text": [
            "16\n"
          ]
        }
      ]
    },
    {
      "cell_type": "markdown",
      "source": [
        "2) Crie uma função que receba duas variáveis inteiras e imprima a sua soma. Chame esta função passando dois números."
      ],
      "metadata": {
        "id": "xFO_cx1VgEme"
      }
    },
    {
      "cell_type": "code",
      "source": [
        "def soma_numeros(a, b):\n",
        "    print(a+b)\n",
        "\n",
        "soma_numeros(7,84)"
      ],
      "metadata": {
        "colab": {
          "base_uri": "https://localhost:8080/"
        },
        "id": "KNIm43EegEwS",
        "outputId": "77edcd3f-9aa3-4245-f380-1ee08647a777"
      },
      "execution_count": null,
      "outputs": [
        {
          "output_type": "stream",
          "name": "stdout",
          "text": [
            "91\n"
          ]
        }
      ]
    },
    {
      "cell_type": "markdown",
      "source": [
        "3) Crie uma função que, dadas duas variáveis inteiras, imprima a sua soma se eles forem iguais e a sua diferença se eles forem diferentes. Chame esta função passando dois números iguais e passando dois números diferentes.\n"
      ],
      "metadata": {
        "id": "On9X4UMhiCNI"
      }
    },
    {
      "cell_type": "code",
      "source": [
        "def igual_ou_diferente(a, b):\n",
        "    if a == b:\n",
        "        print(a+b)\n",
        "    else:\n",
        "        print(a-b)\n",
        "\n",
        "igual_ou_diferente(7,7)\n",
        "igual_ou_diferente(7,84)"
      ],
      "metadata": {
        "colab": {
          "base_uri": "https://localhost:8080/"
        },
        "id": "LBruoNgsiIxh",
        "outputId": "18d87046-3dd2-425b-db64-72a5205a76df"
      },
      "execution_count": null,
      "outputs": [
        {
          "output_type": "stream",
          "name": "stdout",
          "text": [
            "14\n",
            "-77\n"
          ]
        }
      ]
    },
    {
      "cell_type": "markdown",
      "source": [
        "4) Exercício sobre LOOP (lembrar)\n"
      ],
      "metadata": {
        "id": "7wQMXFnLElxX"
      }
    },
    {
      "cell_type": "markdown",
      "source": [
        "5) Crie uma calculadora que dadas duas variáveis numéricas e um identificador que caracteriza uma das quatro operações básicas de Soma, Subtração, Multiplicação e Divisão, imprima o resultado da operação. \n",
        "\n",
        "Caso haja alguma operação inválida (como dividir por zero), imprima a mensagem \"Não tente quebrar esta calculadora básica!\". No caso do operador ser desconhecido, imprima a mensagem \"Operador não reconhecido!\".\n",
        "\n",
        "Chame a função testando todos os operadores e um caso onde haja uma divisão por zero.\n",
        "\n",
        "Considere os seguintes identificadores para os operadores:\n",
        "\n",
        "\n",
        "*   '+' = Soma\n",
        "*   '-' = Subtração\n",
        "*   '*' = Multiplicação\n",
        "*   '/' = Divisão"
      ],
      "metadata": {
        "id": "0AZBom5T8zoF"
      }
    },
    {
      "cell_type": "code",
      "source": [
        "def calculadora_basica(a, b, operador):\n",
        "    if operador == '+':\n",
        "        print(a+b)\n",
        "    elif operador == '-':\n",
        "        print(a-b)\n",
        "    elif operador == '*':\n",
        "        print(a*b)\n",
        "    elif operador == '/':\n",
        "        if b != 0:\n",
        "          print(a/b)\n",
        "        else:\n",
        "          print(\"Não tente quebrar esta calculadora básica!\")\n",
        "    else:\n",
        "        print('Operador não reconhecido!')\n",
        "\n",
        "calculadora_basica(7, 5, '+')\n",
        "calculadora_basica(7, 9, '-')\n",
        "calculadora_basica(505, 4, '*')\n",
        "calculadora_basica(754, 3, \"/\")\n",
        "calculadora_basica(9, 0, \"/\")\n",
        "calculadora_basica(9, 0, \"%\")"
      ],
      "metadata": {
        "colab": {
          "base_uri": "https://localhost:8080/"
        },
        "outputId": "9b59d454-0ced-4bc3-bf9d-e2bb54c0a357",
        "id": "y1r8c0lZ-g9c"
      },
      "execution_count": null,
      "outputs": [
        {
          "output_type": "stream",
          "name": "stdout",
          "text": [
            "12\n",
            "-2\n",
            "2020\n",
            "251.33333333333334\n",
            "Não tente quebrar esta calculadora básica!\n",
            "Operador não reconhecido!\n"
          ]
        }
      ]
    },
    {
      "cell_type": "markdown",
      "source": [
        "6) Crie um classificador de código de barras, dado um código de 10 dígitos inteiros e positivos em string. A partir deste código, realize a soma de cada um dos dígitos (S) e classifque o código de barras em relação ao tipo de produto que ele pertence, como segue:\n",
        "\n",
        "\n",
        "*   S >= 0 e S<= 20 --> Bomboniére\n",
        "*   S >= 21 e S<= 50 --> Higiene\n",
        "*   S >= 51 e S<= 100 --> Utensílios\n",
        "*   S >= 101 e S<= 500 --> Congelados\n",
        "*   S >= 501 e S<= 1000 --> Bebidas\n",
        "*   S >= 1001 --> Padaria\n",
        "\n"
      ],
      "metadata": {
        "id": "jqzV6BlaAnSx"
      }
    },
    {
      "cell_type": "code",
      "source": [
        "def classifica_codigo_barras(codigo_barras):\n",
        "    soma = 0\n",
        "    for digito in codigo_barras:\n",
        "      soma = soma + int(digito)\n",
        "\n",
        "    if soma >= 0 and soma <= 20:\n",
        "        print(\"Bomboniére\")\n",
        "    elif soma >= 21 and soma <= 50:\n",
        "        print(\"Higiene\")\n",
        "    elif soma >= 51 and soma <= 100:\n",
        "        print(\"Utensílios\")\n",
        "    elif soma >= 101 and soma <= 500:\n",
        "        print(\"Congelados\")\n",
        "    elif soma >= 501 and soma <= 1000:\n",
        "        print(\"Bebidas\")\n",
        "    elif soma >= 1001:\n",
        "        print(\"Padaria\")\n",
        "\n",
        "classifica_codigo_barras('1980001124')\n"
      ],
      "metadata": {
        "colab": {
          "base_uri": "https://localhost:8080/"
        },
        "outputId": "b1118218-8d7f-4506-9288-c0559a579f54",
        "id": "Pk6PIrULAr8p"
      },
      "execution_count": null,
      "outputs": [
        {
          "output_type": "stream",
          "name": "stdout",
          "text": [
            "Higiene\n"
          ]
        }
      ]
    },
    {
      "cell_type": "markdown",
      "source": [
        "## Orientação a Objetos em Python"
      ],
      "metadata": {
        "id": "Dz71PzIMdZbn"
      }
    },
    {
      "cell_type": "markdown",
      "source": [
        "1) Crie uma classe Pessoa que tenha um atributo de classe idade de valor 18. Instancie um objeto Pessoa e imprima a sua idade."
      ],
      "metadata": {
        "id": "wV0codljZNNb"
      }
    },
    {
      "cell_type": "code",
      "execution_count": null,
      "metadata": {
        "colab": {
          "base_uri": "https://localhost:8080/"
        },
        "id": "Vt5pr_ZFZFos",
        "outputId": "15836de4-c3e1-46ac-ddd9-2049580da012"
      },
      "outputs": [
        {
          "output_type": "stream",
          "name": "stdout",
          "text": [
            "18\n"
          ]
        }
      ],
      "source": [
        "class Pessoa:\n",
        "    idade = 18\n",
        "\n",
        "p1 = Pessoa()\n",
        "print(p1.idade)"
      ]
    },
    {
      "cell_type": "markdown",
      "source": [
        "2) Crie uma classe Pessoa que tenha os atributos de instância nome (com valor \"Maria\") e idade (com valor 18). Instancie um objeto Pessoa e imprima seu nome e sua idade. Altere o nome deste objeto e imprima novamente seu nome e sua idade."
      ],
      "metadata": {
        "id": "L7dW9PH9Zzjp"
      }
    },
    {
      "cell_type": "code",
      "source": [
        "class Pessoa:\n",
        "    def __init__(self):\n",
        "        self.nome = \"Maria\"\n",
        "        self.idade = 18\n",
        "\n",
        "p1 = Pessoa()\n",
        "print(p1.nome)\n",
        "print(p1.idade)\n",
        "\n",
        "p1.nome = \"Ana\"\n",
        "print(p1.nome)\n",
        "print(p1.idade)"
      ],
      "metadata": {
        "colab": {
          "base_uri": "https://localhost:8080/"
        },
        "id": "d-lHeoB3aIGm",
        "outputId": "ed92438d-4f44-45a3-cb82-1544c69100c9"
      },
      "execution_count": null,
      "outputs": [
        {
          "output_type": "stream",
          "name": "stdout",
          "text": [
            "Maria\n",
            "18\n",
            "Ana\n",
            "18\n"
          ]
        }
      ]
    },
    {
      "cell_type": "markdown",
      "source": [
        "3) Crie uma classe Pessoa que tenha os atributos de instância nome e idade, cujos valores devem ser recebidos via construtor. Instancie um objeto Pessoa e imprima seu nome e sua idade. Altere o nome deste objeto e imprima novamente seu nome e sua idade."
      ],
      "metadata": {
        "id": "oWxqCIKEaHmw"
      }
    },
    {
      "cell_type": "code",
      "source": [
        "class Pessoa:\n",
        "    def __init__(self, nome, idade):\n",
        "        self.nome = nome\n",
        "        self.idade = idade\n",
        "\n",
        "p1 = Pessoa(\"Pedro\", 36)\n",
        "print(p1.nome)\n",
        "print(p1.idade)\n",
        "\n",
        "p1.nome = \"Marcos\"\n",
        "print(p1.nome)\n",
        "print(p1.idade)"
      ],
      "metadata": {
        "colab": {
          "base_uri": "https://localhost:8080/"
        },
        "id": "O3V7-VmEaxh1",
        "outputId": "58e3bef5-9efe-4919-f157-3a7b1b866e88"
      },
      "execution_count": null,
      "outputs": [
        {
          "output_type": "stream",
          "name": "stdout",
          "text": [
            "Pedro\n",
            "36\n",
            "Marcos\n",
            "36\n"
          ]
        }
      ]
    },
    {
      "cell_type": "markdown",
      "source": [
        "4) Crie uma classe Pessoa similar à do exercício 3, mas incluindo um método faz_apresentacao que imprima \"Olá, meu nome é [nome da pessoa]\". Instancie um objeto Pessoa e chame este método. Altere o nome deste objeto e chame novamente este método."
      ],
      "metadata": {
        "id": "5bVMrIS7bn7a"
      }
    },
    {
      "cell_type": "code",
      "source": [
        "# [OBS] talvez incentivar o uso de um getter e setter (acho que é boa prática pra Python)"
      ],
      "metadata": {
        "id": "XaHXbXnUFFw2"
      },
      "execution_count": null,
      "outputs": []
    },
    {
      "cell_type": "code",
      "source": [
        "class Pessoa:\n",
        "    def __init__(self, nome, idade):\n",
        "        self.nome = nome\n",
        "        self.idade = idade\n",
        "\n",
        "    def faz_apresentacao(self):\n",
        "        print(\"Olá, meu nome é \" + self.nome)\n",
        "\n",
        "p1 = Pessoa(\"Pedro\", 36)\n",
        "p1.faz_apresentacao()\n",
        "\n",
        "p1.nome = \"Marcos\"\n",
        "p1.faz_apresentacao()"
      ],
      "metadata": {
        "colab": {
          "base_uri": "https://localhost:8080/"
        },
        "id": "3XWcsLLFb4di",
        "outputId": "06e811c6-e2e5-4e91-85fc-b84fa72a8c0d"
      },
      "execution_count": null,
      "outputs": [
        {
          "output_type": "stream",
          "name": "stdout",
          "text": [
            "Olá, meu nome é Pedro\n",
            "Olá, meu nome é Marcos\n"
          ]
        }
      ]
    },
    {
      "cell_type": "markdown",
      "source": [
        "5) Crie uma classe Empregado como subclasse de Pessoa (do exercício 4). Instancie um objeto Empregado e chame o método faz_apresentacao."
      ],
      "metadata": {
        "id": "_v731uxUcars"
      }
    },
    {
      "cell_type": "code",
      "source": [
        "class Empregado(Pessoa):\n",
        "    pass\n",
        "\n",
        "e1 = Empregado(\"Thiago\", 45)\n",
        "e1.faz_apresentacao()"
      ],
      "metadata": {
        "colab": {
          "base_uri": "https://localhost:8080/"
        },
        "id": "rGCENiuwcqWh",
        "outputId": "849989c3-14e3-414e-f3f0-9fa5ace6b95c"
      },
      "execution_count": null,
      "outputs": [
        {
          "output_type": "stream",
          "name": "stdout",
          "text": [
            "Olá, meu nome é Thiago\n"
          ]
        }
      ]
    },
    {
      "cell_type": "markdown",
      "source": [
        "6) Altere sua classe Empregado do exercício 6 para incluir o atributo de instância matricula, que deverá ser preenchido ao criar um objeto Empregado. Agora, o construtor de Empregado deverá chamar o construtor da sua superclasse. Crie também o método bater_ponto, que usa o nome e a matricula do empregado para \"bater ponto\". Instancie um objeto Empregado e chame o método bater_ponto."
      ],
      "metadata": {
        "id": "twz_FI7cdDdz"
      }
    },
    {
      "cell_type": "code",
      "source": [
        "class Empregado(Pessoa):\n",
        "    def __init__(self, nome, idade, matricula):\n",
        "        super().__init__(nome, idade)   # ou Pessoa.__init__(nome, idade)\n",
        "        self.matricula = matricula\n",
        "\n",
        "    def bater_ponto(self):\n",
        "        print(\"Empregado %s, matrícula %s batendo ponto!\" % (self.nome, self.matricula))\n",
        "\n",
        "\n",
        "e1 = Empregado(\"Gabriel\", 39, 12345)\n",
        "e1.bater_ponto()"
      ],
      "metadata": {
        "colab": {
          "base_uri": "https://localhost:8080/"
        },
        "id": "AOknQUE7dDji",
        "outputId": "2631420c-585d-430e-ac2d-8bd690848de8"
      },
      "execution_count": null,
      "outputs": [
        {
          "output_type": "stream",
          "name": "stdout",
          "text": [
            "Empregado Gabriel, matrícula 12345 batendo ponto!\n"
          ]
        }
      ]
    },
    {
      "cell_type": "markdown",
      "source": [
        "7) Crie uma classe **Cachorro** com atributos de instância *tamanho*, *raca*, *nome* e o método latir, que lata de forma diferente de acordo com o tamanho do cachorro.\n",
        "\n",
        "Depois, crie 3 objetos do tipo Cachorro, variando seus tamanhos, e faça-os latir."
      ],
      "metadata": {
        "id": "KJTV4VpBr91c"
      }
    },
    {
      "cell_type": "code",
      "source": [
        "class Cachorro:\n",
        "    def __init__(self, tamanho, raca, nome):\n",
        "        self.tamanho = tamanho\n",
        "        self.raca = raca\n",
        "        self.nome = nome\n",
        "\n",
        "    def latir(self):\n",
        "        if self.tamanho < 40:\n",
        "            print(\"< Som de latido agudo >\")\n",
        "        elif self.tamanho > 100:\n",
        "            print(\"< Som de latido grave >\")\n",
        "        else:\n",
        "            print(\"< Som de latido médio >\")"
      ],
      "metadata": {
        "id": "6-mrltqFr9VB"
      },
      "execution_count": 24,
      "outputs": []
    },
    {
      "cell_type": "code",
      "source": [
        "cachorro_pequeno = Cachorro(10, \"poodle\", \"Belinha\")\n",
        "cachorro_medio = Cachorro(60, \"vira-lata\", \"Laila\")\n",
        "cachorro_grande = Cachorro(120, \"labrador\", \"Zeus\")\n",
        "\n",
        "cachorro_pequeno.latir()\n",
        "cachorro_medio.latir()\n",
        "cachorro_grande.latir()"
      ],
      "metadata": {
        "colab": {
          "base_uri": "https://localhost:8080/"
        },
        "id": "cLWSp1IyhoLn",
        "outputId": "d5f1cbd5-ad90-4591-b879-5da56462ddd8"
      },
      "execution_count": 26,
      "outputs": [
        {
          "output_type": "stream",
          "name": "stdout",
          "text": [
            "< Som de latido agudo >\n",
            "< Som de latido médio >\n",
            "< Som de latido grave >\n"
          ]
        }
      ]
    },
    {
      "cell_type": "markdown",
      "source": [
        "8) Crie uma classe **Pessoa** com o atributo de instância non-public *nome* e o método *consulta_nome*. Crie também uma classe **Conta** com os atributos de instância non-public *numero*, *saldo*, *titular*, *senha* e os métodos *consulta_numero*, *consulta_saldo*, *consulta_titular*, *consulta_senha* e *sacar*.\n",
        "\n",
        "O método *sacar* deve receber um valor e uma senha. Se a senha informada for igual à senha da conta, o saque é permitido, mas se o saldo passar a ficar negativo, deve-se imprimir uma mensagem que está no cheque especial.\n",
        "\n",
        "Em seguida, instancie uma pessoa e sua conta, e realize as seguintes operações nesta conta:\n",
        "\n",
        "*   consulte o saldo\n",
        "*   tente sacar 100 com a senha errada\n",
        "*   consulte o saldo novamente\n",
        "*   tente sacar 100 com a senha certa\n",
        "*   consulte o saldo novamente\n",
        "*   tente sacar um valor maior do que o saldo com a senha certa\n",
        "*   consulte o saldo novamente"
      ],
      "metadata": {
        "id": "OVpwu438c8u4"
      }
    },
    {
      "cell_type": "code",
      "source": [
        "class Pessoa:\n",
        "\n",
        "    def __init__(self, nome):\n",
        "        self.__nome = nome\n",
        "\n",
        "    def consulta_nome(self):\n",
        "        return self.__nome\n",
        "\n",
        "\n",
        "class Conta:\n",
        "\n",
        "    def __init__(self, numero, saldo, titular, senha):\n",
        "        self.__numero = numero\n",
        "        self.__saldo = saldo\n",
        "        self.__titular = titular\n",
        "        self.__senha = senha\n",
        "\n",
        "    def consulta_numero(self):\n",
        "        return self.__numero\n",
        "\n",
        "    def consulta_saldo(self):\n",
        "        print(\"Seu saldo é R$ %.2f\" % self.__saldo)\n",
        "\n",
        "    def consulta_titular(self):\n",
        "        return self.__titular\n",
        "\n",
        "    def consulta_senha(self):\n",
        "        return self.__senha\n",
        "\n",
        "    def sacar(self, valor, senha_informada):\n",
        "        if senha_informada == self.__senha:\n",
        "            self.__saldo -= valor\n",
        "            print(\"Saque realizado!\")\n",
        "            if self.__saldo < 0:\n",
        "                print(\"Você está no cheque especial!\")\n",
        "        else:\n",
        "            print(\"Senha incorreta!\")"
      ],
      "metadata": {
        "id": "IafK6Nnxc808"
      },
      "execution_count": 23,
      "outputs": []
    },
    {
      "cell_type": "code",
      "source": [
        "# Criando uma pessoa e sua conta\n",
        "pessoa = Pessoa(\"Tatiana\")\n",
        "conta = Conta(1234, 750.84, pessoa, 123)\n",
        "\n",
        "conta.consulta_saldo() # saldo 750.84\n",
        "conta.sacar(100, 456) # tentando sacar 100 com a senha errada\n",
        "conta.consulta_saldo() # saldo continua o mesmo\n",
        "conta.sacar(100, 123) # tentando sacar 100 com a senha certa\n",
        "conta.consulta_saldo() # saldo agora é 650.84\n",
        "conta.sacar(1000, 123) # tentando sacar 1000 com a senha certa, vai entrar no especial\n",
        "conta.consulta_saldo() # saldo agora é -349.16\n"
      ],
      "metadata": {
        "colab": {
          "base_uri": "https://localhost:8080/"
        },
        "id": "kngLl-lyecRC",
        "outputId": "cb359041-25b5-4c0b-8b0f-f5add0402936"
      },
      "execution_count": 19,
      "outputs": [
        {
          "output_type": "stream",
          "name": "stdout",
          "text": [
            "Seu saldo é R$ 750.84\n",
            "Senha incorreta!\n",
            "Seu saldo é R$ 750.84\n",
            "Saque realizado!\n",
            "Seu saldo é R$ 650.84\n",
            "Saque realizado!\n",
            "Você está no cheque especial!\n",
            "Seu saldo é R$ -349.16\n"
          ]
        }
      ]
    }
  ]
}