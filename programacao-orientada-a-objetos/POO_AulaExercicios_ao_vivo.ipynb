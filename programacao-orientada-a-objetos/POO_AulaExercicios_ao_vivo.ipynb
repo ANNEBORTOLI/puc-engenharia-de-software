{
  "nbformat": 4,
  "nbformat_minor": 0,
  "metadata": {
    "colab": {
      "provenance": [],
      "toc_visible": true,
      "include_colab_link": true
    },
    "kernelspec": {
      "name": "python3",
      "display_name": "Python 3"
    },
    "language_info": {
      "name": "python"
    }
  },
  "cells": [
    {
      "cell_type": "markdown",
      "metadata": {
        "id": "view-in-github",
        "colab_type": "text"
      },
      "source": [
        "<a href=\"https://colab.research.google.com/github/dipucriodigital/engenharia-de-software/blob/main/programacao-orientada-a-objetos/POO_AulaExercicios_ao_vivo.ipynb\" target=\"_parent\"><img src=\"https://colab.research.google.com/assets/colab-badge.svg\" alt=\"Open In Colab\"/></a>"
      ]
    },
    {
      "cell_type": "markdown",
      "source": [
        "# Programação Orientada a Objetos\n",
        "## Prof. Tatiana Escovedo\n",
        "## Prof. Assistente Antonio Pedro\n",
        "\n",
        "---\n",
        "\n",
        "## Aula Prática de Exercícios"
      ],
      "metadata": {
        "id": "sQaoCezowYOq"
      }
    },
    {
      "cell_type": "markdown",
      "source": [
        "## Prática 1)\n",
        "\n",
        "Vamos criar uma biblioteca de artigos científicos que armazene as publicações de autores e imprima a lista de artigos cadastrados em formato de citação bibliográfica, sendo que:\n",
        "- O **Autor** tem os atributos *nome_completo*, *nome_citacao*, *afiliacao*. \n",
        "- O **Artigo** tem *titulo*, *autor*, *ano_publicacao* (nesta primeira versão do programa, assuma que cada artigo só pode ter um autor)."
      ],
      "metadata": {
        "id": "aqFy2Y8gWO1q"
      }
    },
    {
      "cell_type": "code",
      "execution_count": 29,
      "metadata": {
        "id": "MEC09rkjwPeg"
      },
      "outputs": [],
      "source": [
        "class Autor:\n",
        "    \n",
        "    def __init__(self, nome_completo, nome_citacao, afiliacao):\n",
        "        self.__nome_completo = nome_completo\n",
        "        self.__nome_citacao = nome_citacao\n",
        "        self.__afiliacao = afiliacao\n",
        "\n",
        "    def consultar_nome_completo(self):\n",
        "        return self.__nome_completo\n",
        "\n",
        "    def consultar_nome_citacao(self):\n",
        "        return self.__nome_citacao\n",
        "\n",
        "    def consultar_afiliacao(self):\n",
        "        return self.__afiliacao\n",
        "\n",
        "\n",
        "class Artigo:\n",
        "    \n",
        "    def __init__(self, titulo, autor, ano_publicacao):\n",
        "        self.__titulo = titulo\n",
        "        self.__autor = autor\n",
        "        self.__ano_publicacao = ano_publicacao\n",
        "\n",
        "    # Depois podemos criar os métodos consulta se precisarmos, mas seria uma boa prática criar\n",
        "\n",
        "    def imprimir_citacao(self):\n",
        "        # T.ESCOVEDO, Desbravando o Python nas Empresas, 2023\n",
        "        return(\"{}, {}, {}\".format(self.__autor.consultar_nome_citacao(), self.__titulo, self.__ano_publicacao))\n",
        "\n",
        "\n",
        "class BibliotecaArtigos:\n",
        "\n",
        "    def __init__(self):\n",
        "        self.__artigos = [] # a biblioteca ao ser criada virá com uma lista de artigos vazia\n",
        "\n",
        "    def publicar_artigo(self, artigo):\n",
        "        self.__artigos.append(artigo)\n",
        "\n",
        "    def imprimir_catalogo_artigos(self):\n",
        "\n",
        "        # Verificando se a lista de artigos está vazia\n",
        "        if len(self.__artigos) == 0:\n",
        "            print(\"\\n### Não há artigos cadastrados na biblioteca!\")\n",
        "        else:\n",
        "            # Apenas se a lista de artigos não for vazia\n",
        "            print(\"\\n### Artigos cadastrados na biblioteca:\")\n",
        "            for artigo in self.__artigos:\n",
        "                print(\"-\", artigo.imprimir_citacao())\n"
      ]
    },
    {
      "cell_type": "code",
      "source": [
        "# Instanciando a biblioteca\n",
        "biblioteca = BibliotecaArtigos()\n",
        "\n",
        "# Criando os autores\n",
        "autor_1 = Autor(\"Tatiana Escovedo\", \"ESCOVEDO, T.\", \"PUC-Rio\")\n",
        "autor_2 = Autor(\"Marcos Kalinowski\", \"KALINOWSKI, M.\", \"PUC-Rio\")\n",
        "autor_3 = Autor(\"Sergio Lifschitz\", \"LIFSCHITZ, S.\", \"PUC-Rio\")\n",
        "\n",
        "# print(autor_1.consultar_nome_completo())\n",
        "\n",
        "# Criando os artigos\n",
        "artigo_1 = Artigo(\"Desbravando o Python nas Empresas\", autor_1, 2023)\n",
        "artigo_2 = Artigo(\"Desbravando a Engenharia de Software nas Empresas\", autor_2, 2020)\n",
        "artigo_3 = Artigo(\"Desbravando o BD nas Empresas\", autor_3, 2018)\n",
        "\n",
        "# print( artigo_1.imprimir_citacao() )\n",
        "\n",
        "# Imprimindo o catálogo de artigos\n",
        "biblioteca.imprimir_catalogo_artigos() # lista vazia!\n",
        "\n",
        "# Publicando os artigos\n",
        "biblioteca.publicar_artigo(artigo_1)\n",
        "biblioteca.publicar_artigo(artigo_2)\n",
        "biblioteca.publicar_artigo(artigo_3)\n",
        "\n",
        "# Imprimindo o catálogo de artigos\n",
        "biblioteca.imprimir_catalogo_artigos() # agora temos artigos na lista\n",
        "\n",
        "\n",
        "#### EXTRAS\n",
        "\n",
        "# Verificando o tipo de autor_1\n",
        "# print(type(autor_1))\n",
        "# Verificando se autor_1 é do tipo Autor\n",
        "# print( isinstance(autor_1, Autor) )"
      ],
      "metadata": {
        "id": "wp5ARbc0_MSv",
        "colab": {
          "base_uri": "https://localhost:8080/"
        },
        "outputId": "b327c8a4-8d36-46ba-d79f-1ac7acc921b9"
      },
      "execution_count": 30,
      "outputs": [
        {
          "output_type": "stream",
          "name": "stdout",
          "text": [
            "\n",
            "### Não há artigos cadastrados na biblioteca!\n",
            "\n",
            "### Artigos cadastrados na biblioteca:\n",
            "- T. ESCOVEDO, Desbravando o Python nas Empresas, 2023\n",
            "- M. KALINOWSKI, Desbravando a Engenharia de Software nas Empresas, 2020\n",
            "- S. LIFSCHITZ, Desbravando o BD nas Empresas, 2018\n"
          ]
        }
      ]
    },
    {
      "cell_type": "markdown",
      "source": [
        "## Prática 2)\n",
        "\n",
        "Altere seu programa da Prática 1 para permitir que cada artigo tenha mais de um autor."
      ],
      "metadata": {
        "id": "KuyYfE6seTmh"
      }
    },
    {
      "cell_type": "code",
      "source": [
        "class Autor:\n",
        "    \n",
        "    def __init__(self, nome_completo, nome_citacao, afiliacao):\n",
        "        self.__nome_completo = nome_completo\n",
        "        self.__nome_citacao = nome_citacao\n",
        "        self.__afiliacao = afiliacao\n",
        "\n",
        "    def consultar_nome_completo(self):\n",
        "        return self.__nome_completo\n",
        "\n",
        "    def consultar_nome_citacao(self):\n",
        "        return self.__nome_citacao\n",
        "\n",
        "    def consultar_afiliacao(self):\n",
        "        return self.__afiliacao\n",
        "\n",
        "\n",
        "class Artigo:\n",
        "    \n",
        "    def __init__(self, titulo, autores, ano_publicacao):\n",
        "        self.__titulo = titulo\n",
        "        self.__autores = autores\n",
        "        self.__ano_publicacao = ano_publicacao\n",
        "\n",
        "    # Depois podemos criar os métodos consulta se precisarmos, mas seria uma boa prática criar\n",
        "\n",
        "    def imprimir_citacao(self):\n",
        "        # T.ESCOVEDO, M.KALINOWSKI, Desbravando o Python nas Empresas, 2023\n",
        "\n",
        "        # variável que vai armazenar a lista de nomes citação de autores\n",
        "        lista_de_autores = \"\"\n",
        "\n",
        "        # para cada autor na lista de autores\n",
        "        for autor in self.__autores:\n",
        "            # vou concatenando o nome citação deste autor na variável acima\n",
        "            lista_de_autores += autor.consultar_nome_citacao()\n",
        "            # e concateno também uma vírgula e um espaço\n",
        "            lista_de_autores += \", \"\n",
        "\n",
        "        # Desafio para casa: quem quiser pode substituir a última vírgula por um ponto!\n",
        "\n",
        "        return(\"{}{}, {}.\".format(lista_de_autores, self.__titulo, self.__ano_publicacao))\n",
        "\n",
        "\n",
        "class BibliotecaArtigos:\n",
        "\n",
        "    def __init__(self):\n",
        "        self.__artigos = [] # a biblioteca ao ser criada virá com uma lista de artigos vazia\n",
        "\n",
        "    def publicar_artigo(self, artigo):\n",
        "        self.__artigos.append(artigo)\n",
        "\n",
        "    def imprimir_catalogo_artigos(self):\n",
        "\n",
        "        # Verificando se a lista de artigos está vazia\n",
        "        if len(self.__artigos) == 0:\n",
        "            print(\"\\n### Não há artigos cadastrados na biblioteca!\")\n",
        "        else:\n",
        "            # Apenas se a lista de artigos não for vazia\n",
        "            print(\"\\n### Artigos cadastrados na biblioteca:\")\n",
        "            for artigo in self.__artigos:\n",
        "                print(\"-\", artigo.imprimir_citacao())\n"
      ],
      "metadata": {
        "id": "lgCGsB2PedWl"
      },
      "execution_count": 35,
      "outputs": []
    },
    {
      "cell_type": "code",
      "source": [
        "# Instanciando a biblioteca\n",
        "biblioteca = BibliotecaArtigos()\n",
        "\n",
        "# Criando os autores\n",
        "autor_1 = Autor(\"Tatiana Escovedo\", \"ESCOVEDO, T.\", \"PUC-Rio\")\n",
        "autor_2 = Autor(\"Marcos Kalinowski\", \"KALINOWSKI, M.\", \"PUC-Rio\")\n",
        "autor_3 = Autor(\"Sergio Lifschitz\", \"LIFSCHITZ, S.\", \"PUC-Rio\")\n",
        "\n",
        "# Criando os artigos\n",
        "artigo_1 = Artigo(\"Desbravando o Python nas Empresas\", [autor_1, autor_2], 2023)\n",
        "artigo_2 = Artigo(\"Desbravando a Engenharia de Software nas Empresas\", [autor_2], 2020)\n",
        "artigo_3 = Artigo(\"Desbravando o BD nas Empresas\", [autor_3, autor_1], 2018)\n",
        "artigo_4 = Artigo(\"Artigo Bugado\", [autor_1, autor_1], 2021) # OPA! Não deveria poder...\n",
        "\n",
        "# Imprimindo o catálogo de artigos\n",
        "biblioteca.imprimir_catalogo_artigos() # lista vazia!\n",
        "\n",
        "# Publicando os artigos\n",
        "biblioteca.publicar_artigo(artigo_1)\n",
        "biblioteca.publicar_artigo(artigo_2)\n",
        "biblioteca.publicar_artigo(artigo_3)\n",
        "biblioteca.publicar_artigo(artigo_4)\n",
        "\n",
        "# Imprimindo o catálogo de artigos\n",
        "biblioteca.imprimir_catalogo_artigos() # agora temos artigos na lista\n",
        "\n",
        "# DESAFIOS para quem quiser: \n",
        "# - não permitir autor repetido no mesmo artigo!\n",
        "# - fazer validação de ano (por exemplo, 2030 é um ano inválido)\n",
        "# - não deixar criar artigo com título vazio, ou sem autores, ou sem ano...\n",
        "# - não deixar criar artigo com palavrões no título - será que já existe um dicionário?\n",
        "# - em vez de criar autores/artigos na linha de comando, ler do teclado (input)"
      ],
      "metadata": {
        "id": "87s7OOTFedct",
        "colab": {
          "base_uri": "https://localhost:8080/"
        },
        "outputId": "434ddb42-38fd-45d8-a6c7-a55a918819d9"
      },
      "execution_count": 38,
      "outputs": [
        {
          "output_type": "stream",
          "name": "stdout",
          "text": [
            "\n",
            "### Não há artigos cadastrados na biblioteca!\n",
            "\n",
            "### Artigos cadastrados na biblioteca:\n",
            "- ESCOVEDO, T., KALINOWSKI, M., Desbravando o Python nas Empresas, 2023.\n",
            "- KALINOWSKI, M., Desbravando a Engenharia de Software nas Empresas, 2020.\n",
            "- LIFSCHITZ, S., ESCOVEDO, T., Desbravando o BD nas Empresas, 2018.\n",
            "- ESCOVEDO, T., ESCOVEDO, T., Artigo Bugado, 2021.\n"
          ]
        }
      ]
    },
    {
      "cell_type": "markdown",
      "source": [
        "# Bônus (fora do escopo da disciplina)!\n",
        "\n",
        "Conexão do Python com Banco de Dados SQLite"
      ],
      "metadata": {
        "id": "FYpiBEhgxxHW"
      }
    },
    {
      "cell_type": "code",
      "source": [
        "# importação da bibloteca do SQLite\n",
        "import sqlite3 # importando sem alias\n",
        "\n",
        "# criar conexão (irá criar ou abrir o arquivo .db do banco de dados)\n",
        "con = sqlite3.connect(\"carsdb.db\")\n",
        "\n",
        "# o cursor permite percorrer os registros de um banco de dados\n",
        "c = con.cursor()\n",
        "\n",
        "# criar uma tabela\n",
        "c.execute(\"create table if not exists cars(brand text, price text)\")\n",
        "\n",
        "# inserir registros na tabela\n",
        "c.execute(\"insert into cars (brand, price) values ('bmw', 3000)\")\n",
        "c.execute(\"insert into cars (brand, price) values ('etios', 1000)\")\n",
        "\n",
        "# fazer o commit\n",
        "con.commit()\n",
        "\n",
        "# executar select * na tabela\n",
        "result = c.execute(\"select * from cars\")\n",
        "\n",
        "# imprimir a primeira linha do select\n",
        "#print(result.fetchone())\n",
        "\n",
        "# imprimir TODAS as linhas da tabela\n",
        "print(result.fetchall())\n",
        "\n",
        "# fechar a conexão\n",
        "con.close()"
      ],
      "metadata": {
        "colab": {
          "base_uri": "https://localhost:8080/"
        },
        "id": "xa4bav7ix1lX",
        "outputId": "9f41175a-1a6d-4ec4-b93f-578f609ad254"
      },
      "execution_count": 39,
      "outputs": [
        {
          "output_type": "stream",
          "name": "stdout",
          "text": [
            "[('bmw', '3000'), ('etios', '1000')]\n"
          ]
        }
      ]
    }
  ]
}