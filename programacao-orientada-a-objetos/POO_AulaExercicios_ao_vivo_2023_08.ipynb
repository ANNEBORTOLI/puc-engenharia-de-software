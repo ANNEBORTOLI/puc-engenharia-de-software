{
  "nbformat": 4,
  "nbformat_minor": 0,
  "metadata": {
    "colab": {
      "provenance": [],
      "include_colab_link": true
    },
    "kernelspec": {
      "name": "python3",
      "display_name": "Python 3"
    },
    "language_info": {
      "name": "python"
    }
  },
  "cells": [
    {
      "cell_type": "markdown",
      "metadata": {
        "id": "view-in-github",
        "colab_type": "text"
      },
      "source": [
        "<a href=\"https://colab.research.google.com/github/dipucriodigital/engenharia-de-software/blob/main/programacao-orientada-a-objetos/POO_AulaExercicios_ao_vivo_2023_08.ipynb\" target=\"_parent\"><img src=\"https://colab.research.google.com/assets/colab-badge.svg\" alt=\"Open In Colab\"/></a>"
      ]
    },
    {
      "cell_type": "markdown",
      "source": [
        "# Programação Orientada a Objetos\n",
        "## Prof. Tatiana Escovedo\n",
        "## Prof. Assistente Antonio Pedro\n",
        "\n",
        "---\n",
        "\n",
        "## Aula Prática de Exercícios"
      ],
      "metadata": {
        "id": "sQaoCezowYOq"
      }
    },
    {
      "cell_type": "markdown",
      "source": [
        "## Prática 1)\n",
        "\n",
        "Vamos criar uma biblioteca de artigos científicos que armazene as publicações de autores e imprima a lista de artigos cadastrados em formato de citação bibliográfica, sendo que:\n",
        "- O **Autor** tem os atributos *nome_completo*, *nome_citacao*, *afiliacao*.\n",
        "- O **Artigo** tem *titulo*, *autor*, *ano_publicacao* (nesta primeira versão do programa, assuma que cada artigo só pode ter um autor)."
      ],
      "metadata": {
        "id": "aqFy2Y8gWO1q"
      }
    },
    {
      "cell_type": "code",
      "source": [],
      "metadata": {
        "id": "0Dyk6HR80FsC"
      },
      "execution_count": null,
      "outputs": []
    },
    {
      "cell_type": "markdown",
      "source": [
        "## Prática 2)\n",
        "\n",
        "Altere seu programa da Prática 1 para permitir que cada artigo tenha mais de um autor. Dica: use uma lista."
      ],
      "metadata": {
        "id": "Gr_vYIKRIqNV"
      }
    },
    {
      "cell_type": "code",
      "source": [],
      "metadata": {
        "id": "ZeEyVR8lIq9N"
      },
      "execution_count": null,
      "outputs": []
    },
    {
      "cell_type": "markdown",
      "source": [
        "## Prática 3)\n",
        "\n",
        "Altere seu programa da Prática 2 tornando a classe **Artigo** abstrata, com o método *imprime_citacao* também abstrato. Crie na classe **Artigo** métodos públicos para permitir a consulta das variáveis de instância non-public nas subclasses.\n",
        "\n",
        "Crie duas subclasses de Artigo: **ArtigoConferencia** deve ter o atributo *local_evento* e **ArtigoPeriodico** o atributo *issn*. Implemente em cada uma das classes a sua versão específica do método *imprime_citacao*.\n",
        "\n",
        "Teste o programa criando artigos, adicionando-os à biblioteca e imprimindo a lista de artigos da biblioteca."
      ],
      "metadata": {
        "id": "_K85F0acthsw"
      }
    },
    {
      "cell_type": "code",
      "source": [],
      "metadata": {
        "id": "uTHPFKBs5cV9"
      },
      "execution_count": null,
      "outputs": []
    },
    {
      "cell_type": "markdown",
      "source": [
        "## Prática 4)\n",
        "\n",
        "Altere seu programa da Prática 3 para:\n",
        "- permitir saber qual é o artigo com o maior número de autores\n",
        "- dado um autor, saber quais artigos ele publicou"
      ],
      "metadata": {
        "id": "faFLDvMbtuEf"
      }
    },
    {
      "cell_type": "code",
      "source": [],
      "metadata": {
        "id": "Nl3OKm_5B2HT"
      },
      "execution_count": null,
      "outputs": []
    }
  ]
}