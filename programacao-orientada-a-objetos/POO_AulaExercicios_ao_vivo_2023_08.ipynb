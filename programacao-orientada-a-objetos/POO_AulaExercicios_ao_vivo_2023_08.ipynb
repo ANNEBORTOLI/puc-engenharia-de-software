{
  "nbformat": 4,
  "nbformat_minor": 0,
  "metadata": {
    "colab": {
      "provenance": [],
      "include_colab_link": true
    },
    "kernelspec": {
      "name": "python3",
      "display_name": "Python 3"
    },
    "language_info": {
      "name": "python"
    }
  },
  "cells": [
    {
      "cell_type": "markdown",
      "metadata": {
        "id": "view-in-github",
        "colab_type": "text"
      },
      "source": [
        "<a href=\"https://colab.research.google.com/github/dipucriodigital/engenharia-de-software/blob/main/programacao-orientada-a-objetos/POO_AulaExercicios_ao_vivo_2023_08.ipynb\" target=\"_parent\"><img src=\"https://colab.research.google.com/assets/colab-badge.svg\" alt=\"Open In Colab\"/></a>"
      ]
    },
    {
      "cell_type": "markdown",
      "source": [
        "# Programação Orientada a Objetos\n",
        "## Prof. Tatiana Escovedo\n",
        "## Prof. Assistente Antonio Pedro\n",
        "\n",
        "---\n",
        "\n",
        "## Aula Prática de Exercícios"
      ],
      "metadata": {
        "id": "sQaoCezowYOq"
      }
    },
    {
      "cell_type": "markdown",
      "source": [
        "## Prática 1)\n",
        "\n",
        "Vamos criar uma biblioteca de artigos científicos que armazene as publicações de autores e imprima a lista de artigos cadastrados em formato de citação bibliográfica, sendo que:\n",
        "- O **Autor** tem os atributos *nome_completo*, *nome_citacao*, *afiliacao*.\n",
        "- O **Artigo** tem *titulo*, *autor*, *ano_publicacao* (nesta primeira versão do programa, assuma que cada artigo só pode ter um autor)."
      ],
      "metadata": {
        "id": "aqFy2Y8gWO1q"
      }
    },
    {
      "cell_type": "code",
      "source": [
        "class Autor:\n",
        "\n",
        "    def __init__(self, nome_completo, nome_citacao, afiliacao):\n",
        "        self.__nome_completo = nome_completo\n",
        "        self.__nome_citacao = nome_citacao\n",
        "        self.__afiliacao = afiliacao\n",
        "\n",
        "    def consultar_nome_completo(self):\n",
        "        return self.__nome_completo\n",
        "\n",
        "    def consultar_nome_citacao(self):\n",
        "        return self.__nome_citacao\n",
        "\n",
        "    def consultar_afiliacao(self):\n",
        "        return self.__afiliacao\n",
        "\n",
        "\n",
        "class Artigo:\n",
        "\n",
        "    def __init__(self, titulo, autor, ano_publicacao):\n",
        "        self.__titulo = titulo\n",
        "        self.__autor = autor\n",
        "        self.__ano_publicacao = ano_publicacao\n",
        "\n",
        "    # OBS: eu poderia criar aqui os métodos consultar_titulo, consultar_autor???, consultar_ano\n",
        "\n",
        "    def formatar_citacao(self):\n",
        "        # ESCOVEDO, T., Aprenda Python Comigo, 2023.\n",
        "        return(\"{}, {}, {}.\".format(self.__autor.consultar_nome_citacao(), self.__titulo, self.__ano_publicacao))\n",
        "\n",
        "\n",
        "class Biblioteca:\n",
        "\n",
        "    def __init__(self):\n",
        "        self.__artigos = []\n",
        "\n",
        "    def publicar_artigo(self, artigo):\n",
        "        # adiciono o artigo recebido como parâmetro na lista de artigos da bliblioteca\n",
        "        self.__artigos.append(artigo)\n",
        "        print(\"Artigo publicado com sucesso!\")\n",
        "\n",
        "        # Sugestão Para Casa: verifique se o artigo já estava lá antes de inserir, verificar se as informações estão consistentes etc\n",
        "\n",
        "    def imprimir_catalogo(self):\n",
        "\n",
        "        # se a lista estiver vazia, imprime mensagem de erro\n",
        "        if len(self.__artigos) == 0: # vazia!\n",
        "            print(\"\\n== Não há artigos cadastrados nesta biblioteca!\")\n",
        "        else:\n",
        "            print(\"\\n== Artigos cadastrados nesta biblioteca:\")\n",
        "        # imprime artigos enquanto existirem na lista:\n",
        "            # para cada artigo, imprime a sua citação\n",
        "            for artigo in self.__artigos:\n",
        "                print(artigo.formatar_citacao())"
      ],
      "metadata": {
        "id": "0Dyk6HR80FsC"
      },
      "execution_count": 23,
      "outputs": []
    },
    {
      "cell_type": "code",
      "source": [
        "# Instanciação dos objetos\n",
        "\n",
        "biblioteca = Biblioteca()\n",
        "\n",
        "autor_1 = Autor(\"Tatiana Escovedo\", \"ESCOVEDO, T.\", \"PUC-Rio\")\n",
        "autor_2 = Autor(\"Marcos Kalinowski\", \"KALINOWSKI, M.\", \"PUC-Rio\")\n",
        "\n",
        "artigo_1 = Artigo(\"Aprenda Python Comigo\", autor_1, 2023)\n",
        "artigo_2 = Artigo(\"Aprenda Engenharia de Software Comigo\", autor_2, 2022)\n",
        "artigo_3 = Artigo(\"Aprenda Ballet Comigo\", autor_1, 2001)\n",
        "\n",
        "# Imprimindo o catálogo - biblioteca vazia!\n",
        "biblioteca.imprimir_catalogo()\n",
        "\n",
        "# Publicando os artigos na biblioteca\n",
        "biblioteca.publicar_artigo(artigo_1)\n",
        "biblioteca.publicar_artigo(artigo_2)\n",
        "biblioteca.publicar_artigo(artigo_3)\n",
        "\n",
        "# Imprimindo o catálogo - biblioteca com 3 artigos!\n",
        "biblioteca.imprimir_catalogo()"
      ],
      "metadata": {
        "colab": {
          "base_uri": "https://localhost:8080/"
        },
        "id": "_UfCAJAAkVcu",
        "outputId": "0bd89a55-44a3-4dbf-c75f-bab751b5c5e7"
      },
      "execution_count": 24,
      "outputs": [
        {
          "output_type": "stream",
          "name": "stdout",
          "text": [
            "\n",
            "== Não há artigos cadastrados nesta biblioteca!\n",
            "Artigo publicado com sucesso!\n",
            "Artigo publicado com sucesso!\n",
            "Artigo publicado com sucesso!\n",
            "\n",
            "== Artigos cadastrados nesta biblioteca:\n",
            "ESCOVEDO, T., Aprenda Python Comigo, 2023.\n",
            "KALINOWSKI, M., Aprenda Engenharia de Software Comigo, 2022.\n",
            "ESCOVEDO, T., Aprenda Ballet Comigo, 2001.\n"
          ]
        }
      ]
    },
    {
      "cell_type": "markdown",
      "source": [
        "## Prática 2)\n",
        "\n",
        "Altere seu programa da Prática 1 para permitir que cada artigo tenha mais de um autor. Dica: use uma lista."
      ],
      "metadata": {
        "id": "Gr_vYIKRIqNV"
      }
    },
    {
      "cell_type": "code",
      "source": [
        "class Autor: # Sem alterações!\n",
        "\n",
        "    def __init__(self, nome_completo, nome_citacao, afiliacao):\n",
        "        self.__nome_completo = nome_completo\n",
        "        self.__nome_citacao = nome_citacao\n",
        "        self.__afiliacao = afiliacao\n",
        "\n",
        "    def consultar_nome_completo(self):\n",
        "        return self.__nome_completo\n",
        "\n",
        "    def consultar_nome_citacao(self):\n",
        "        return self.__nome_citacao\n",
        "\n",
        "    def consultar_afiliacao(self):\n",
        "        return self.__afiliacao\n",
        "\n",
        "\n",
        "class Artigo: # Alterações para esta prática\n",
        "\n",
        "    def __init__(self, titulo, autores, ano_publicacao):\n",
        "        self.__titulo = titulo\n",
        "        self.__autores = autores\n",
        "        self.__ano_publicacao = ano_publicacao\n",
        "\n",
        "    # OBS: eu poderia criar aqui os métodos consultar_titulo, consultar_autor???, consultar_ano\n",
        "\n",
        "    def formatar_citacao(self):\n",
        "        # ESCOVEDO, T., KALINOWSKI, M., LIFSCHITZ, S., Aprenda Python Comigo, 2023.\n",
        "\n",
        "        # ESCOVEDO, T., KALINOWSKI, M., LIFSCHITZ, S.\n",
        "        lista_autores = \"\"\n",
        "        # para cada autor na lista de autores\n",
        "        for autor in self.__autores:\n",
        "            # concateno em lista_autores o nome citação desse autor\n",
        "            lista_autores += autor.consultar_nome_citacao()\n",
        "            # concateno a vírgula e o espaço para separar um do outro\n",
        "            lista_autores += \", \"\n",
        "\n",
        "        return(\"{}{}, {}.\".format(lista_autores, self.__titulo, self.__ano_publicacao))\n",
        "\n",
        "\n",
        "class Biblioteca: # Sem alterações\n",
        "\n",
        "    def __init__(self):\n",
        "        self.__artigos = []\n",
        "\n",
        "    def publicar_artigo(self, artigo):\n",
        "        # adiciono o artigo recebido como parâmetro na lista de artigos da bliblioteca\n",
        "        self.__artigos.append(artigo)\n",
        "        print(\"Artigo publicado com sucesso!\")\n",
        "\n",
        "        # Sugestão Para Casa: verifique se o artigo já estava lá antes de inserir, verificar se as informações estão consistentes etc\n",
        "\n",
        "    def imprimir_catalogo(self):\n",
        "\n",
        "        # se a lista estiver vazia, imprime mensagem de erro\n",
        "        if len(self.__artigos) == 0: # vazia!\n",
        "            print(\"\\n== Não há artigos cadastrados nesta biblioteca!\")\n",
        "        else:\n",
        "            print(\"\\n== Artigos cadastrados nesta biblioteca:\")\n",
        "        # imprime artigos enquanto existirem na lista:\n",
        "            # para cada artigo, imprime a sua citação\n",
        "            for artigo in self.__artigos:\n",
        "                print(artigo.formatar_citacao())"
      ],
      "metadata": {
        "id": "ZeEyVR8lIq9N"
      },
      "execution_count": 25,
      "outputs": []
    },
    {
      "cell_type": "code",
      "source": [
        "# Instanciação dos objetos\n",
        "\n",
        "biblioteca = Biblioteca()\n",
        "\n",
        "autor_1 = Autor(\"Tatiana Escovedo\", \"ESCOVEDO, T.\", \"PUC-Rio\")\n",
        "autor_2 = Autor(\"Marcos Kalinowski\", \"KALINOWSKI, M.\", \"PUC-Rio\")\n",
        "autor_3 = Autor(\"Sérgio Lifschitz\", \"LIFSCHITZ, S.\", \"PUC-Rio\")\n",
        "\n",
        "# alterando para lista de autores - esta é a única modificação!\n",
        "artigo_1 = Artigo(\"Aprenda Python Comigo\", [autor_1, autor_2, autor_3], 2023)\n",
        "artigo_2 = Artigo(\"Aprenda Engenharia de Software Comigo\", [autor_2, autor_1], 2022)\n",
        "artigo_3 = Artigo(\"Aprenda Ballet Comigo\", [autor_1], 2001)\n",
        "\n",
        "\n",
        "# Imprimindo o catálogo - biblioteca vazia!\n",
        "biblioteca.imprimir_catalogo()\n",
        "\n",
        "# Publicando os artigos na biblioteca\n",
        "biblioteca.publicar_artigo(artigo_1)\n",
        "biblioteca.publicar_artigo(artigo_2)\n",
        "biblioteca.publicar_artigo(artigo_3)\n",
        "\n",
        "# Imprimindo o catálogo - biblioteca com 3 artigos!\n",
        "biblioteca.imprimir_catalogo()\n",
        "\n",
        "# Sugestão Para Casa: Formatar pela PEP-8, não deixar ter autores repetidos no artigo, artigos com o mesmo nome, etc\n"
      ],
      "metadata": {
        "colab": {
          "base_uri": "https://localhost:8080/"
        },
        "id": "XOUDE72etTdi",
        "outputId": "51c609a1-987a-4533-c4ba-7b0e2761c4eb"
      },
      "execution_count": 27,
      "outputs": [
        {
          "output_type": "stream",
          "name": "stdout",
          "text": [
            "\n",
            "== Não há artigos cadastrados nesta biblioteca!\n",
            "Artigo publicado com sucesso!\n",
            "Artigo publicado com sucesso!\n",
            "Artigo publicado com sucesso!\n",
            "\n",
            "== Artigos cadastrados nesta biblioteca:\n",
            "ESCOVEDO, T., KALINOWSKI, M., ESCOVEDO, T., Aprenda Python Comigo, 2023.\n",
            "KALINOWSKI, M., ESCOVEDO, T., Aprenda Engenharia de Software Comigo, 2022.\n",
            "ESCOVEDO, T., Aprenda Ballet Comigo, 2001.\n"
          ]
        }
      ]
    },
    {
      "cell_type": "markdown",
      "source": [
        "## Prática 3)\n",
        "\n",
        "Altere seu programa da Prática 2 tornando a classe **Artigo** abstrata, com o método *imprime_citacao* também abstrato. Crie na classe **Artigo** métodos públicos para permitir a consulta das variáveis de instância non-public nas subclasses.\n",
        "\n",
        "Crie duas subclasses de Artigo: **ArtigoConferencia** deve ter o atributo *local_evento* e **ArtigoPeriodico** o atributo *issn*. Implemente em cada uma das classes a sua versão específica do método *imprime_citacao*.\n",
        "\n",
        "Teste o programa criando artigos, adicionando-os à biblioteca e imprimindo a lista de artigos da biblioteca."
      ],
      "metadata": {
        "id": "_K85F0acthsw"
      }
    },
    {
      "cell_type": "code",
      "source": [],
      "metadata": {
        "id": "uTHPFKBs5cV9"
      },
      "execution_count": null,
      "outputs": []
    },
    {
      "cell_type": "markdown",
      "source": [
        "## Prática 4)\n",
        "\n",
        "Altere seu programa da Prática 3 para:\n",
        "- permitir saber qual é o artigo com o maior número de autores\n",
        "- dado um autor, saber quais artigos ele publicou"
      ],
      "metadata": {
        "id": "faFLDvMbtuEf"
      }
    },
    {
      "cell_type": "code",
      "source": [],
      "metadata": {
        "id": "Nl3OKm_5B2HT"
      },
      "execution_count": null,
      "outputs": []
    }
  ]
}