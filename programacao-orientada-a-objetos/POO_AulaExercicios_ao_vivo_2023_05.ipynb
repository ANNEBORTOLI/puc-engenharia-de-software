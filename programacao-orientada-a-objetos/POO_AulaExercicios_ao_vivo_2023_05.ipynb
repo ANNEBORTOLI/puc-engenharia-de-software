{
  "nbformat": 4,
  "nbformat_minor": 0,
  "metadata": {
    "colab": {
      "provenance": [],
      "include_colab_link": true
    },
    "kernelspec": {
      "name": "python3",
      "display_name": "Python 3"
    },
    "language_info": {
      "name": "python"
    }
  },
  "cells": [
    {
      "cell_type": "markdown",
      "metadata": {
        "id": "view-in-github",
        "colab_type": "text"
      },
      "source": [
        "<a href=\"https://colab.research.google.com/github/dipucriodigital/engenharia-de-software/blob/main/programacao-orientada-a-objetos/POO_AulaExercicios_ao_vivo_2023_05.ipynb\" target=\"_parent\"><img src=\"https://colab.research.google.com/assets/colab-badge.svg\" alt=\"Open In Colab\"/></a>"
      ]
    },
    {
      "cell_type": "markdown",
      "source": [
        "# Programação Orientada a Objetos\n",
        "## Prof. Tatiana Escovedo\n",
        "## Prof. Assistente Antonio Pedro\n",
        "\n",
        "---\n",
        "\n",
        "## Aula Prática de Exercícios"
      ],
      "metadata": {
        "id": "sQaoCezowYOq"
      }
    },
    {
      "cell_type": "markdown",
      "source": [
        "## Prática 1)\n",
        "\n",
        "Vamos criar uma biblioteca de artigos científicos que armazene as publicações de autores e imprima a lista de artigos cadastrados em formato de citação bibliográfica, sendo que:\n",
        "- O **Autor** tem os atributos *nome_completo*, *nome_citacao*, *afiliacao*.\n",
        "- O **Artigo** tem *titulo*, *autor*, *ano_publicacao* (nesta primeira versão do programa, assuma que cada artigo só pode ter um autor)."
      ],
      "metadata": {
        "id": "aqFy2Y8gWO1q"
      }
    },
    {
      "cell_type": "code",
      "source": [
        "class Autor:\n",
        "\n",
        "    def __init__(self, nome_completo, nome_citacao, afiliacao):\n",
        "        self.__nome_completo = nome_completo\n",
        "        self.__nome_citacao = nome_citacao\n",
        "        self.__afiliacao = afiliacao\n",
        "\n",
        "    def consultar_nome_completo(self):\n",
        "        return self.__nome_completo\n",
        "\n",
        "    def consultar_nome_citacao(self):\n",
        "        return self.__nome_citacao\n",
        "\n",
        "    def consultar_afiliacao(self):\n",
        "        return self.__afiliacao\n",
        "\n",
        "\n",
        "class Artigo:\n",
        "\n",
        "    def __init__(self, titulo, autor, ano_publicacao):\n",
        "        self.__titulo = titulo\n",
        "        self.__autor = autor\n",
        "        self.__ano_publicacao = ano_publicacao\n",
        "\n",
        "    # aqui poderíamos criar os métodos consultar_XXX\n",
        "\n",
        "    def imprimir_citacao(self):\n",
        "        # Exemplo de saída: ESCOVEDO, T., Virando um mestre supremo em Python, 2023\n",
        "        return(\"{}, {}, {}\".format(self.__autor.consultar_nome_citacao(), self.__titulo, self.__ano_publicacao))\n",
        "\n",
        "\n",
        "class BibliotecaArtigos:\n",
        "\n",
        "    def __init__(self):\n",
        "        self.__artigos = []\n",
        "\n",
        "    def publicar_artigo(self, artigo):\n",
        "        # adicionar o artigo recebido no parâmetro do método na minha lista de artigos\n",
        "        self.__artigos.append(artigo)\n",
        "\n",
        "    def imprimir_catalogo(self):\n",
        "\n",
        "        # verificando se a lista está vazia\n",
        "        if len(self.__artigos) == 0:\n",
        "            print(\"\\n=== Não há artigos cadastrados nesta biblioteca! === \")\n",
        "        else:\n",
        "            print(\"\\n=== Artigos cadastrados nesta biblioteca: === \")\n",
        "            # para cada artigo da lista de artigos da biblioteca\n",
        "            for artigo in self.__artigos:\n",
        "                # imprimir a citação bibliográfico\n",
        "                print(artigo.imprimir_citacao())"
      ],
      "metadata": {
        "id": "h8j_DQ_x2NvG"
      },
      "execution_count": null,
      "outputs": []
    },
    {
      "cell_type": "code",
      "source": [
        "# Instanciando o biblioteca\n",
        "biblioteca = BibliotecaArtigos()\n",
        "\n",
        "# Criando os autores\n",
        "autor_1 = Autor(\"Tatiana Escovedo\", \"ESCOVEDO, T.\", \"PUC-Rio\")\n",
        "# print(autor_1.consultar_nome_completo())\n",
        "autor_2 = Autor(\"José das Couves\", \"COUVES, J.\", \"UFRJ\")\n",
        "\n",
        "# Criando os artigos\n",
        "artigo_1 = Artigo(\"Virando um mestre supremo em Python\", autor_1, 2023)\n",
        "artigo_2 = Artigo(\"Tricot fácil\", autor_2, 2010)\n",
        "artigo_3 = Artigo(\"Astrologia Moderna\", autor_1, 2015)\n",
        "\n",
        "# print(artigo_1.imprimir_citacao())\n",
        "\n",
        "# Repare que a biblioteca ainda está vazia...\n",
        "biblioteca.imprimir_catalogo()\n",
        "\n",
        "# Publicando os artigos\n",
        "biblioteca.publicar_artigo(artigo_1)\n",
        "biblioteca.publicar_artigo(artigo_2)\n",
        "biblioteca.publicar_artigo(artigo_3)\n",
        "\n",
        "# Repare que agora a biblioteca tem 3 artigos\n",
        "biblioteca.imprimir_catalogo()"
      ],
      "metadata": {
        "colab": {
          "base_uri": "https://localhost:8080/"
        },
        "id": "eZ6GPBtv5PWz",
        "outputId": "a94536ce-2d8d-4960-f365-bc5b1e9e17ce"
      },
      "execution_count": null,
      "outputs": [
        {
          "output_type": "stream",
          "name": "stdout",
          "text": [
            "\n",
            "=== Não há artigos cadastrados nesta biblioteca! === \n",
            "\n",
            "=== Artigos cadastrados nesta biblioteca: === \n",
            "ESCOVEDO, T., Virando um mestre supremo em Python, 2023\n",
            "COUVES, J., Tricot fácil, 2010\n",
            "ESCOVEDO, T., Astrologia Moderna, 2015\n"
          ]
        }
      ]
    },
    {
      "cell_type": "markdown",
      "source": [
        "## Prática 2)\n",
        "\n",
        "Altere seu programa da Prática 1 para permitir que cada artigo tenha mais de um autor. Dica: use uma lista."
      ],
      "metadata": {
        "id": "Gr_vYIKRIqNV"
      }
    },
    {
      "cell_type": "code",
      "source": [
        "class Autor:\n",
        "\n",
        "    def __init__(self, nome_completo, nome_citacao, afiliacao):\n",
        "        self.__nome_completo = nome_completo\n",
        "        self.__nome_citacao = nome_citacao\n",
        "        self.__afiliacao = afiliacao\n",
        "\n",
        "    def consultar_nome_completo(self):\n",
        "        return self.__nome_completo\n",
        "\n",
        "    def consultar_nome_citacao(self):\n",
        "        return self.__nome_citacao\n",
        "\n",
        "    def consultar_afiliacao(self):\n",
        "        return self.__afiliacao\n",
        "\n",
        "\n",
        "class Artigo:\n",
        "\n",
        "    def __init__(self, titulo, autores, ano_publicacao):\n",
        "        self.__titulo = titulo\n",
        "        self.__autores = autores\n",
        "        self.__ano_publicacao = ano_publicacao\n",
        "\n",
        "    # aqui poderíamos criar os métodos consultar_XXX\n",
        "\n",
        "    def imprimir_citacao(self):\n",
        "        # Exemplo de saída: ESCOVEDO, T., COUVES, J., Virando um mestre supremo em Python, 2023\n",
        "        lista_de_autores = \"\"\n",
        "\n",
        "        # para cada autor na lista de autores\n",
        "        for autor in self.__autores:\n",
        "            # vou concatenando o nome_citacao de cada autor em lista_de_autores\n",
        "            lista_de_autores += autor.consultar_nome_citacao()\n",
        "            # concatenando após cada autor \", \"\n",
        "            lista_de_autores += \", \"\n",
        "\n",
        "        return(\"{}{}, {}\".format(lista_de_autores, self.__titulo, self.__ano_publicacao))\n",
        "\n",
        "\n",
        "class BibliotecaArtigos:\n",
        "\n",
        "    def __init__(self):\n",
        "        self.__artigos = []\n",
        "\n",
        "    def publicar_artigo(self, artigo):\n",
        "        # adicionar o artigo recebido no parâmetro do método na minha lista de artigos\n",
        "        self.__artigos.append(artigo)\n",
        "\n",
        "    def imprimir_catalogo(self):\n",
        "\n",
        "        # verificando se a lista está vazia\n",
        "        if len(self.__artigos) == 0:\n",
        "            print(\"\\n=== Não há artigos cadastrados nesta biblioteca! === \")\n",
        "        else:\n",
        "            print(\"\\n=== Artigos cadastrados nesta biblioteca: === \")\n",
        "            # para cada artigo da lista de artigos da biblioteca\n",
        "            for artigo in self.__artigos:\n",
        "                # imprimir a citação bibliográfico\n",
        "                print(artigo.imprimir_citacao())"
      ],
      "metadata": {
        "id": "ZeEyVR8lIq9N"
      },
      "execution_count": null,
      "outputs": []
    },
    {
      "cell_type": "code",
      "source": [
        "# Instanciando o biblioteca\n",
        "biblioteca = BibliotecaArtigos()\n",
        "\n",
        "# Criando os autores\n",
        "autor_1 = Autor(\"Tatiana Escovedo\", \"ESCOVEDO, T.\", \"PUC-Rio\")\n",
        "# print(autor_1.consultar_nome_completo())\n",
        "autor_2 = Autor(\"José das Couves\", \"COUVES, J.\", \"UFRJ\")\n",
        "autor_3 = Autor(\"Antonio Pedro Santos Alves\", \"ALVES, A.\", \"PUC-Rio\")\n",
        "\n",
        "# Criando os artigos\n",
        "artigo_1 = Artigo(\"Virando um mestre supremo em Python\", [autor_1, autor_3], 2023)\n",
        "artigo_2 = Artigo(\"Tricot fácil\", [autor_2, autor_3], 2010)\n",
        "artigo_3 = Artigo(\"Astrologia Moderna\", [autor_1], 2015)\n",
        "\n",
        "# print(artigo_1.imprimir_citacao())\n",
        "\n",
        "# Repare que a biblioteca ainda está vazia...\n",
        "biblioteca.imprimir_catalogo()\n",
        "\n",
        "# Publicando os artigos\n",
        "biblioteca.publicar_artigo(artigo_1)\n",
        "biblioteca.publicar_artigo(artigo_2)\n",
        "biblioteca.publicar_artigo(artigo_3)\n",
        "\n",
        "# Repare que agora a biblioteca tem 3 artigos\n",
        "biblioteca.imprimir_catalogo()"
      ],
      "metadata": {
        "id": "J-hmZ9YF2F4d",
        "colab": {
          "base_uri": "https://localhost:8080/"
        },
        "outputId": "d0d5b2b5-85d0-48d5-c147-356a5965ee11"
      },
      "execution_count": null,
      "outputs": [
        {
          "output_type": "stream",
          "name": "stdout",
          "text": [
            "\n",
            "=== Não há artigos cadastrados nesta biblioteca! === \n",
            "\n",
            "=== Artigos cadastrados nesta biblioteca: === \n",
            "ESCOVEDO, T., ALVES, A., Virando um mestre supremo em Python, 2023\n",
            "COUVES, J., ALVES, A., Tricot fácil, 2010\n",
            "ESCOVEDO, T., Astrologia Moderna, 2015\n"
          ]
        }
      ]
    },
    {
      "cell_type": "markdown",
      "source": [
        "## Prática 3)\n",
        "\n",
        "Altere seu programa da Prática 2 tornando a classe **Artigo** abstrata, com o método *imprime_citacao* também abstrato. Crie na classe **Artigo** métodos públicos para permitir a consulta das variáveis de instância non-public nas subclasses.\n",
        "\n",
        "Crie duas subclasses de Artigo: **ArtigoConferencia** deve ter o atributo *local_evento* e **ArtigoPeriodico** o atributo *issn*. Implemente em cada uma das classes a sua versão específica do método *imprime_citacao*.\n",
        "\n",
        "Teste o programa criando artigos, adicionando-os à biblioteca e imprimindo a lista de artigos da biblioteca."
      ],
      "metadata": {
        "id": "_K85F0acthsw"
      }
    },
    {
      "cell_type": "code",
      "source": [
        "class Autor:\n",
        "\n",
        "    def __init__(self, nome_completo, nome_citacao, afiliacao):\n",
        "        self.__nome_completo = nome_completo\n",
        "        self.__nome_citacao = nome_citacao\n",
        "        self.__afiliacao = afiliacao\n",
        "\n",
        "    def consultar_nome_completo(self):\n",
        "        return self.__nome_completo\n",
        "\n",
        "    def consultar_nome_citacao(self):\n",
        "        return self.__nome_citacao\n",
        "\n",
        "    def consultar_afiliacao(self):\n",
        "        return self.__afiliacao\n",
        "\n",
        "# Esta classe é abstrata\n",
        "import abc\n",
        "\n",
        "class Artigo(abc.ABC):\n",
        "\n",
        "    def __init__(self, titulo, autores, ano_publicacao):\n",
        "        self.__titulo = titulo\n",
        "        self.__autores = autores\n",
        "        self.__ano_publicacao = ano_publicacao\n",
        "\n",
        "    # criando os métodos de acesso para as subclasses\n",
        "\n",
        "    def consultar_titulo(self):\n",
        "        return self.__titulo\n",
        "\n",
        "    def consultar_autores(self):\n",
        "        return self.__autores\n",
        "\n",
        "    def consultar_ano_publicacao(self):\n",
        "        return self.__ano_publicacao\n",
        "\n",
        "    @abc.abstractmethod\n",
        "    def imprimir_citacao(self):\n",
        "        pass\n",
        "\n",
        "\n",
        "class ArtigoConferencia(Artigo):\n",
        "\n",
        "    def __init__(self, titulo, autores, ano_publicacao, local_evento):\n",
        "        # para construir a \"parte Artigo\" de um ArtigoConferencia, chamarei o construtor pai\n",
        "        Artigo.__init__(self, titulo, autores, ano_publicacao)\n",
        "        # construindo a \"parte específica\"\n",
        "        self.__local_evento = local_evento\n",
        "\n",
        "    # como herdamos de Artigo, temos a \"dívida\" de implementar o método abstrato imprimir_citacao\n",
        "    def imprimir_citacao(self):\n",
        "        # Exemplo de saída: ESCOVEDO, T., COUVES, J., Virando um mestre supremo em Python, 2023, Maceió\n",
        "        lista_de_autores = \"\"\n",
        "\n",
        "        # para cada autor na lista de autores\n",
        "        for autor in self.consultar_autores():\n",
        "            # vou concatenando o nome_citacao de cada autor em lista_de_autores\n",
        "            lista_de_autores += autor.consultar_nome_citacao()\n",
        "            # concatenando após cada autor \", \"\n",
        "            lista_de_autores += \", \"\n",
        "\n",
        "        return(\"{}{}, {}, {}\".format(lista_de_autores, self.consultar_titulo(),\n",
        "                                     self.consultar_ano_publicacao(),\n",
        "                                     self.__local_evento))\n",
        "\n",
        "\n",
        "class ArtigoPeriodico(Artigo):\n",
        "\n",
        "    def __init__(self, titulo, autores, ano_publicacao, issn):\n",
        "        # para construir a \"parte Artigo\" de um ArtigoConferencia, chamarei o construtor pai\n",
        "        Artigo.__init__(self, titulo, autores, ano_publicacao)\n",
        "        # construindo a \"parte específica\"\n",
        "        self.__issn = issn\n",
        "\n",
        "    # como herdamos de Artigo, temos a \"dívida\" de implementar o método abstrato imprimir_citacao\n",
        "    def imprimir_citacao(self):\n",
        "        # Exemplo de saída: ESCOVEDO, T., COUVES, J., Virando um mestre supremo em Python, 2023, 4592-9034\n",
        "        lista_de_autores = \"\"\n",
        "\n",
        "        # para cada autor na lista de autores\n",
        "        for autor in self.consultar_autores():\n",
        "            # vou concatenando o nome_citacao de cada autor em lista_de_autores\n",
        "            lista_de_autores += autor.consultar_nome_citacao()\n",
        "            # concatenando após cada autor \", \"\n",
        "            lista_de_autores += \", \"\n",
        "\n",
        "        return(\"{}{}, {}, {}\".format(lista_de_autores, self.consultar_titulo(),\n",
        "                                     self.consultar_ano_publicacao(),\n",
        "                                     self.__issn))\n",
        "\n",
        "class BibliotecaArtigos:\n",
        "\n",
        "    def __init__(self):\n",
        "        self.__artigos = []\n",
        "\n",
        "    def publicar_artigo(self, artigo):\n",
        "        # adicionar o artigo recebido no parâmetro do método na minha lista de artigos\n",
        "        self.__artigos.append(artigo)\n",
        "\n",
        "    def imprimir_catalogo(self):\n",
        "\n",
        "        # verificando se a lista está vazia\n",
        "        if len(self.__artigos) == 0:\n",
        "            print(\"\\n=== Não há artigos cadastrados nesta biblioteca! === \")\n",
        "        else:\n",
        "            print(\"\\n=== Artigos cadastrados nesta biblioteca: === \")\n",
        "            # para cada artigo da lista de artigos da biblioteca\n",
        "            for artigo in self.__artigos:\n",
        "                # imprimir a citação bibliográfica\n",
        "                print(artigo.imprimir_citacao())"
      ],
      "metadata": {
        "id": "N-75pkpM5bts"
      },
      "execution_count": null,
      "outputs": []
    },
    {
      "cell_type": "code",
      "source": [
        "# Instanciando o biblioteca\n",
        "biblioteca = BibliotecaArtigos()\n",
        "\n",
        "# Criando os autores\n",
        "autor_1 = Autor(\"Tatiana Escovedo\", \"ESCOVEDO, T.\", \"PUC-Rio\")\n",
        "autor_2 = Autor(\"José das Couves\", \"COUVES, J.\", \"UFRJ\")\n",
        "autor_3 = Autor(\"Antonio Pedro Santos Alves\", \"ALVES, A.\", \"PUC-Rio\")\n",
        "\n",
        "# Criando os artigos\n",
        "artigo_1 = ArtigoConferencia(\"Virando um mestre supremo em Python\", [autor_1, autor_3], 2023, \"Maceió\")\n",
        "artigo_2 = ArtigoPeriodico(\"Tricot fácil\", [autor_2, autor_3], 2010, \"4592-9034\")\n",
        "artigo_3 = ArtigoConferencia(\"Astrologia Moderna\", [autor_1], 2015, \"Londres\")\n",
        "\n",
        "# print(artigo_1.imprimir_citacao())\n",
        "\n",
        "# Repare que a biblioteca ainda está vazia...\n",
        "biblioteca.imprimir_catalogo()\n",
        "\n",
        "# Publicando os artigos\n",
        "biblioteca.publicar_artigo(artigo_1)\n",
        "biblioteca.publicar_artigo(artigo_2)\n",
        "biblioteca.publicar_artigo(artigo_3)\n",
        "\n",
        "# Repare que agora a biblioteca tem 3 artigos\n",
        "biblioteca.imprimir_catalogo()"
      ],
      "metadata": {
        "colab": {
          "base_uri": "https://localhost:8080/"
        },
        "id": "uTHPFKBs5cV9",
        "outputId": "5b481d89-4a03-48b3-fc6b-142cbe45d4a8"
      },
      "execution_count": null,
      "outputs": [
        {
          "output_type": "stream",
          "name": "stdout",
          "text": [
            "\n",
            "=== Não há artigos cadastrados nesta biblioteca! === \n",
            "\n",
            "=== Artigos cadastrados nesta biblioteca: === \n",
            "ESCOVEDO, T., ALVES, A., Virando um mestre supremo em Python, 2023, Maceió\n",
            "COUVES, J., ALVES, A., Tricot fácil, 2010, 4592-9034\n",
            "ESCOVEDO, T., Astrologia Moderna, 2015, Londres\n"
          ]
        }
      ]
    },
    {
      "cell_type": "markdown",
      "source": [
        "## Prática 4)\n",
        "\n",
        "Altere seu programa da Prática 3 para:\n",
        "- permitir saber qual é o artigo com o maior número de autores\n",
        "- dado um autor, saber quais artigos ele publicou"
      ],
      "metadata": {
        "id": "faFLDvMbtuEf"
      }
    },
    {
      "cell_type": "code",
      "source": [
        "class Autor:\n",
        "\n",
        "    def __init__(self, nome_completo, nome_citacao, afiliacao):\n",
        "        self.__nome_completo = nome_completo\n",
        "        self.__nome_citacao = nome_citacao\n",
        "        self.__afiliacao = afiliacao\n",
        "\n",
        "    def consultar_nome_completo(self):\n",
        "        return self.__nome_completo\n",
        "\n",
        "    def consultar_nome_citacao(self):\n",
        "        return self.__nome_citacao\n",
        "\n",
        "    def consultar_afiliacao(self):\n",
        "        return self.__afiliacao\n",
        "\n",
        "# Esta classe é abstrata\n",
        "import abc\n",
        "\n",
        "class Artigo(abc.ABC):\n",
        "\n",
        "    def __init__(self, titulo, autores, ano_publicacao):\n",
        "        self.__titulo = titulo\n",
        "        self.__autores = autores\n",
        "        self.__ano_publicacao = ano_publicacao\n",
        "\n",
        "    # criando os métodos de acesso para as subclasses\n",
        "\n",
        "    def consultar_titulo(self):\n",
        "        return self.__titulo\n",
        "\n",
        "    def consultar_autores(self):\n",
        "        return self.__autores\n",
        "\n",
        "    def consultar_ano_publicacao(self):\n",
        "        return self.__ano_publicacao\n",
        "\n",
        "    @abc.abstractmethod\n",
        "    def imprimir_citacao(self):\n",
        "        pass\n",
        "\n",
        "\n",
        "class ArtigoConferencia(Artigo):\n",
        "\n",
        "    def __init__(self, titulo, autores, ano_publicacao, local_evento):\n",
        "        # para construir a \"parte Artigo\" de um ArtigoConferencia, chamarei o construtor pai\n",
        "        Artigo.__init__(self, titulo, autores, ano_publicacao)\n",
        "        # construindo a \"parte específica\"\n",
        "        self.__local_evento = local_evento\n",
        "\n",
        "    # como herdamos de Artigo, temos a \"dívida\" de implementar o método abstrato imprimir_citacao\n",
        "    def imprimir_citacao(self):\n",
        "        # Exemplo de saída: ESCOVEDO, T., COUVES, J., Virando um mestre supremo em Python, 2023, Maceió\n",
        "        lista_de_autores = \"\"\n",
        "\n",
        "        # para cada autor na lista de autores\n",
        "        for autor in self.consultar_autores():\n",
        "            # vou concatenando o nome_citacao de cada autor em lista_de_autores\n",
        "            lista_de_autores += autor.consultar_nome_citacao()\n",
        "            # concatenando após cada autor \", \"\n",
        "            lista_de_autores += \", \"\n",
        "\n",
        "        return(\"{}{}, {}, {}\".format(lista_de_autores, self.consultar_titulo(),\n",
        "                                     self.consultar_ano_publicacao(),\n",
        "                                     self.__local_evento))\n",
        "\n",
        "\n",
        "class ArtigoPeriodico(Artigo):\n",
        "\n",
        "    def __init__(self, titulo, autores, ano_publicacao, issn):\n",
        "        # para construir a \"parte Artigo\" de um ArtigoConferencia, chamarei o construtor pai\n",
        "        Artigo.__init__(self, titulo, autores, ano_publicacao)\n",
        "        # construindo a \"parte específica\"\n",
        "        self.__issn = issn\n",
        "\n",
        "    # como herdamos de Artigo, temos a \"dívida\" de implementar o método abstrato imprimir_citacao\n",
        "    def imprimir_citacao(self):\n",
        "        # Exemplo de saída: ESCOVEDO, T., COUVES, J., Virando um mestre supremo em Python, 2023, 4592-9034\n",
        "        lista_de_autores = \"\"\n",
        "\n",
        "        # para cada autor na lista de autores\n",
        "        for autor in self.consultar_autores():\n",
        "            # vou concatenando o nome_citacao de cada autor em lista_de_autores\n",
        "            lista_de_autores += autor.consultar_nome_citacao()\n",
        "            # concatenando após cada autor \", \"\n",
        "            lista_de_autores += \", \"\n",
        "\n",
        "        return(\"{}{}, {}, {}\".format(lista_de_autores, self.consultar_titulo(),\n",
        "                                     self.consultar_ano_publicacao(),\n",
        "                                     self.__issn))\n",
        "\n",
        "class BibliotecaArtigos:\n",
        "\n",
        "    def __init__(self):\n",
        "        self.__artigos = []\n",
        "\n",
        "    def publicar_artigo(self, artigo):\n",
        "        # adicionar o artigo recebido no parâmetro do método na minha lista de artigos\n",
        "        self.__artigos.append(artigo)\n",
        "\n",
        "    def imprimir_catalogo(self):\n",
        "\n",
        "        # verificando se a lista está vazia\n",
        "        if len(self.__artigos) == 0:\n",
        "            print(\"\\n=== Não há artigos cadastrados nesta biblioteca! === \")\n",
        "        else:\n",
        "            print(\"\\n=== Artigos cadastrados nesta biblioteca: === \")\n",
        "            # para cada artigo da lista de artigos da biblioteca\n",
        "            for artigo in self.__artigos:\n",
        "                # imprimir a citação bibliográfica\n",
        "                print(artigo.imprimir_citacao())\n",
        "\n",
        "\n",
        "    def encontrar_artigo_com_mais_autores(self):\n",
        "\n",
        "        if len(self.__artigos) == 0:\n",
        "            print(\"\\n=== Não há artigos cadastrados nesta biblioteca! === \")\n",
        "        else:\n",
        "            # variável para guardar o maior número de autores encontrado\n",
        "            maior_numero_de_autores_encontrado = 0\n",
        "            # variável para guardar o artigo com o maior número de autores encontrado\n",
        "            artigo_com_maior_numero_de_autores_encontrado = None\n",
        "\n",
        "            # para cada artigo da lista de artigos\n",
        "            for artigo in self.__artigos:\n",
        "                # contar quantos autores tem este artigo\n",
        "                qtd_autores_artigo = len(artigo.consultar_autores())\n",
        "                # se achei um maior número do que eu já tinha, substitui o antigo maior\n",
        "                if qtd_autores_artigo > maior_numero_de_autores_encontrado:\n",
        "                    maior_numero_de_autores_encontrado = qtd_autores_artigo\n",
        "                    # também atualiza a variável que guarda o artigo com maior número de autores\n",
        "                    artigo_com_maior_numero_de_autores_encontrado = artigo\n",
        "\n",
        "            # quando saí do for, tenho o maior número encontrado. Retorno o artigo!\n",
        "            print(\"\\n=== Artigo com mais autores: \")\n",
        "            print(artigo_com_maior_numero_de_autores_encontrado.imprimir_citacao())\n",
        "\n",
        "\n",
        "    def encontrar_artigos_por_autor(self, autor_procurado):\n",
        "\n",
        "        if len(self.__artigos) == 0:\n",
        "            print(\"\\n=== Não há artigos cadastrados nesta biblioteca! === \")\n",
        "        else:\n",
        "            # lista para guardar os artigos do autor procurado e retornar no fim\n",
        "            lista_de_artigos_do_autor_procurado = []\n",
        "            # para cada artigo da lista de artigos\n",
        "            for artigo in self.__artigos:\n",
        "                # verificar quais são os autores do artigo da vez\n",
        "                autores_do_artigo = artigo.consultar_autores()\n",
        "                # verificar se o autor procurado está nessa lista\n",
        "                if autor_procurado in autores_do_artigo:\n",
        "                    # se sim, adiciono o artigo na minha lista de retorno\n",
        "                    lista_de_artigos_do_autor_procurado.append(artigo)\n",
        "\n",
        "            # ao fim do for, imprimo a lista\n",
        "            if len(lista_de_artigos_do_autor_procurado) == 0:\n",
        "                print(\"\\n=== O autor \" + autor_procurado.consultar_nome_completo() + \" não tem artigos publicados nesta biblioteca!\")\n",
        "            else:\n",
        "                print(\"\\n=== Lista de artigos do autor: \" + autor_procurado.consultar_nome_completo())\n",
        "                for artigo_da_lista in lista_de_artigos_do_autor_procurado:\n",
        "                    print(artigo_da_lista.imprimir_citacao())"
      ],
      "metadata": {
        "id": "Nl3OKm_5B2HT"
      },
      "execution_count": null,
      "outputs": []
    },
    {
      "cell_type": "code",
      "source": [
        "# Instanciando o biblioteca\n",
        "biblioteca = BibliotecaArtigos()\n",
        "\n",
        "# Criando os autores\n",
        "autor_1 = Autor(\"Tatiana Escovedo\", \"ESCOVEDO, T.\", \"PUC-Rio\")\n",
        "autor_2 = Autor(\"José das Couves\", \"COUVES, J.\", \"UFRJ\")\n",
        "autor_3 = Autor(\"Antonio Pedro Santos Alves\", \"ALVES, A.\", \"PUC-Rio\")\n",
        "autor_4 = Autor(\"Marcos Kalinowski\", \"KALINOWSKI, M.\", \"PUC-Rio\")\n",
        "\n",
        "# Criando os artigos\n",
        "artigo_1 = ArtigoConferencia(\"Virando um mestre supremo em Python\", [autor_1, autor_3], 2023, \"Maceió\")\n",
        "artigo_2 = ArtigoPeriodico(\"Tricot fácil\", [autor_2, autor_3], 2010, \"4592-9034\")\n",
        "artigo_3 = ArtigoConferencia(\"Astrologia Moderna\", [autor_1], 2015, \"Londres\")\n",
        "\n",
        "# print(artigo_1.imprimir_citacao())\n",
        "\n",
        "# Repare que a biblioteca ainda está vazia...\n",
        "biblioteca.imprimir_catalogo()\n",
        "biblioteca.encontrar_artigo_com_mais_autores()\n",
        "\n",
        "# Publicando os artigos\n",
        "biblioteca.publicar_artigo(artigo_1)\n",
        "biblioteca.publicar_artigo(artigo_2)\n",
        "biblioteca.publicar_artigo(artigo_3)\n",
        "\n",
        "# Repare que agora a biblioteca tem 3 artigos\n",
        "biblioteca.imprimir_catalogo()\n",
        "\n",
        "biblioteca.encontrar_artigo_com_mais_autores()\n",
        "\n",
        "biblioteca.encontrar_artigos_por_autor(autor_1)\n",
        "\n",
        "biblioteca.encontrar_artigos_por_autor(autor_4)"
      ],
      "metadata": {
        "colab": {
          "base_uri": "https://localhost:8080/"
        },
        "id": "Wrb2K4DrB2ON",
        "outputId": "60003525-fffe-44f7-976b-6df2e8b5c083"
      },
      "execution_count": null,
      "outputs": [
        {
          "output_type": "stream",
          "name": "stdout",
          "text": [
            "\n",
            "=== Não há artigos cadastrados nesta biblioteca! === \n",
            "\n",
            "=== Não há artigos cadastrados nesta biblioteca! === \n",
            "\n",
            "=== Artigos cadastrados nesta biblioteca: === \n",
            "ESCOVEDO, T., ALVES, A., Virando um mestre supremo em Python, 2023, Maceió\n",
            "COUVES, J., ALVES, A., Tricot fácil, 2010, 4592-9034\n",
            "ESCOVEDO, T., Astrologia Moderna, 2015, Londres\n",
            "\n",
            "=== Artigo com mais autores: \n",
            "ESCOVEDO, T., ALVES, A., Virando um mestre supremo em Python, 2023, Maceió\n",
            "\n",
            "=== Lista de artigos do autor: Tatiana Escovedo\n",
            "ESCOVEDO, T., ALVES, A., Virando um mestre supremo em Python, 2023, Maceió\n",
            "ESCOVEDO, T., Astrologia Moderna, 2015, Londres\n",
            "\n",
            "=== O autor Marcos Kalinowski não tem artigos publicados nesta biblioteca!\n"
          ]
        }
      ]
    },
    {
      "cell_type": "code",
      "source": [
        "# Pegando os inputs do teclado\n",
        "nome_completo = input(\"Digite o nome completo do autor: \")\n",
        "nome_citacao = input(\"Digite o nome citação do autor: \")\n",
        "afiliacao = input(\"Digite a afiliação do autor: \")\n",
        "\n",
        "# Montando o objeto\n",
        "autor_5 = Autor(nome_completo, nome_citacao, afiliacao)\n",
        "autor_5.consultar_nome_completo()"
      ],
      "metadata": {
        "colab": {
          "base_uri": "https://localhost:8080/",
          "height": 87
        },
        "id": "_hqFXtaRLSQU",
        "outputId": "ccc83995-b068-4c6e-ee3a-f23bd5d18c7a"
      },
      "execution_count": null,
      "outputs": [
        {
          "name": "stdout",
          "output_type": "stream",
          "text": [
            "Digite o nome completo do autor: Maria da Silva\n",
            "Digite o nome citação do autor: SILVA, M.\n",
            "Digite a afiliação do autor: UFRJ\n"
          ]
        },
        {
          "output_type": "execute_result",
          "data": {
            "text/plain": [
              "'Maria da Silva'"
            ],
            "application/vnd.google.colaboratory.intrinsic+json": {
              "type": "string"
            }
          },
          "metadata": {},
          "execution_count": 55
        }
      ]
    },
    {
      "cell_type": "code",
      "source": [
        "print(\"=======================================\")\n",
        "print(\"=                                     =\")\n",
        "print(\"=   Seja bem-vindo ao sysBiblioteca!  =\")\n",
        "print(\"=                                     =\")\n",
        "print(\"=======================================\")"
      ],
      "metadata": {
        "colab": {
          "base_uri": "https://localhost:8080/"
        },
        "id": "XC2OuFkkMdeT",
        "outputId": "c621bfd2-d163-4786-8ea2-d03e131a41cf"
      },
      "execution_count": null,
      "outputs": [
        {
          "output_type": "stream",
          "name": "stdout",
          "text": [
            "=======================================\n",
            "=                                     =\n",
            "=   Seja bem-vindo ao sysBiblioteca   =\n",
            "=                                     =\n",
            "=======================================\n"
          ]
        }
      ]
    }
  ]
}